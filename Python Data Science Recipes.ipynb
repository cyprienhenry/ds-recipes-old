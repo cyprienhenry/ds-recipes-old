{
 "cells": [
  {
   "cell_type": "markdown",
   "metadata": {},
   "source": [
    "# Saving time in Python for common Data Science tasks"
   ]
  },
  {
   "cell_type": "markdown",
   "metadata": {},
   "source": [
    "The purpose of this workbook is to act as a quick reference guide / list of recipes to perform common data science tasks in an efficient way."
   ]
  },
  {
   "cell_type": "markdown",
   "metadata": {},
   "source": [
    "# Table of contents\n",
    "* [Best practices](#best_practices)\n",
    "* [Compute correlation matrix](#corr_matrix)\n",
    "* [Deal with dates](#dates)\n",
    "* [Deal with NAs](#NAs)\n",
    "* [Deal with constant / quasi-constant variables](#constant_variables)\n",
    "* [Load data from multiple files and concatenate](#load_concat)\n",
    "* [Save a dataframe to .csv](#save_csv)"
   ]
  },
  {
   "cell_type": "markdown",
   "metadata": {},
   "source": [
    "___"
   ]
  },
  {
   "cell_type": "markdown",
   "metadata": {},
   "source": [
    "# <a name=\"best_practices\"></a> Best practices\n",
    "There are often several ways of performing a given task in Python, such as iterating on a list for instance. Below I tried to list some common tasks with the corresponding best practice."
   ]
  },
  {
   "cell_type": "markdown",
   "metadata": {},
   "source": [
    "## > Iterate on a dictionary\n",
    "The idiomatic way is to use `items()` to iterate accros the dictionary."
   ]
  },
  {
   "cell_type": "code",
   "execution_count": 5,
   "metadata": {},
   "outputs": [
    {
     "name": "stdout",
     "output_type": "stream",
     "text": [
      "Key First Name has value John\n",
      "Key Last Name has value Doe\n"
     ]
    }
   ],
   "source": [
    "d = {'First Name': 'John', 'Last Name': 'Doe'}\n",
    "for key, val in d.items():\n",
    "    print('Key ' + key + ' has value ' + val)"
   ]
  },
  {
   "cell_type": "markdown",
   "metadata": {},
   "source": [
    "## > Iterate on a list and access the index\n",
    "Here the trick is to use `enumerate` rather than creating an index value that we would manually increment. \n",
    "`enumerate` makes things smooth:"
   ]
  },
  {
   "cell_type": "code",
   "execution_count": 1,
   "metadata": {},
   "outputs": [
    {
     "name": "stdout",
     "output_type": "stream",
     "text": [
      "0 a\n",
      "1 b\n",
      "2 c\n"
     ]
    }
   ],
   "source": [
    "items = ['a', 'b', 'c']\n",
    "for index, item in enumerate(items, start=0):   # default is zero\n",
    "    print(index, item)"
   ]
  },
  {
   "cell_type": "markdown",
   "metadata": {},
   "source": [
    "# Deal with constant and quasi-variables"
   ]
  },
  {
   "cell_type": "code",
   "execution_count": null,
   "metadata": {},
   "outputs": [],
   "source": []
  },
  {
   "cell_type": "markdown",
   "metadata": {},
   "source": [
    "___"
   ]
  },
  {
   "cell_type": "markdown",
   "metadata": {},
   "source": [
    "# <a name=\"dates\"></a> Deal with dates\n",
    "The common operations involve:\n",
    "\n",
    "* converting a `string` to a `datetime` object or the reverse operation\n",
    "* changing the format of the displayed date, like removing day, month, year information and keep only time information\n",
    "* computing date / time differences"
   ]
  },
  {
   "cell_type": "markdown",
   "metadata": {},
   "source": [
    "## > Parse a `string` into a `datetime` object"
   ]
  },
  {
   "cell_type": "code",
   "execution_count": 55,
   "metadata": {},
   "outputs": [
    {
     "name": "stdout",
     "output_type": "stream",
     "text": [
      "The created object has the following type: <class 'datetime.datetime'>\n"
     ]
    }
   ],
   "source": [
    "import datetime\n",
    "my_date = datetime.datetime.strptime('2012-07-22 16:19:00.539570', '%Y-%m-%d %H:%M:%S.%f')\n",
    "print('The created object has the following type: %s' % type(my_date))"
   ]
  },
  {
   "cell_type": "markdown",
   "metadata": {},
   "source": [
    "## > Parse a `string` into `datetime` object when loading a .csv file"
   ]
  },
  {
   "cell_type": "markdown",
   "metadata": {},
   "source": [
    "When loading data from a .csv file, it may be handy to take care of the date column at the same time, rather than modifying thedate column in another command. To do so, one may define a date parser function that will be applied on the date column when reading the csv.\n",
    "\n",
    "To demonstrate this, we generate a fake .csv file with a date column. The date will be written as '15', '16', '17' for 2015, 2016 and 2017 respectively."
   ]
  },
  {
   "cell_type": "code",
   "execution_count": 94,
   "metadata": {},
   "outputs": [
    {
     "name": "stdout",
     "output_type": "stream",
     "text": [
      "  date\n",
      "0   15\n",
      "1   16\n",
      "2   17\n"
     ]
    }
   ],
   "source": [
    "import pandas as pd\n",
    "from pandas import datetime\n",
    "\n",
    "df = pd.DataFrame(['15', '16', '17'], columns = ['date'])\n",
    "print(df.head())\n",
    "\n",
    "# save dataframe\n",
    "df.to_csv('./data/tmp.csv', index=False)"
   ]
  },
  {
   "cell_type": "markdown",
   "metadata": {},
   "source": [
    "Let's now demonstrate how to define a date parser and load the csv properly."
   ]
  },
  {
   "cell_type": "code",
   "execution_count": 92,
   "metadata": {},
   "outputs": [
    {
     "data": {
      "text/html": [
       "<div>\n",
       "<style>\n",
       "    .dataframe thead tr:only-child th {\n",
       "        text-align: right;\n",
       "    }\n",
       "\n",
       "    .dataframe thead th {\n",
       "        text-align: left;\n",
       "    }\n",
       "\n",
       "    .dataframe tbody tr th {\n",
       "        vertical-align: top;\n",
       "    }\n",
       "</style>\n",
       "<table border=\"1\" class=\"dataframe\">\n",
       "  <thead>\n",
       "    <tr style=\"text-align: right;\">\n",
       "      <th></th>\n",
       "      <th>date</th>\n",
       "    </tr>\n",
       "  </thead>\n",
       "  <tbody>\n",
       "    <tr>\n",
       "      <th>0</th>\n",
       "      <td>2015-01-01</td>\n",
       "    </tr>\n",
       "    <tr>\n",
       "      <th>1</th>\n",
       "      <td>2016-01-01</td>\n",
       "    </tr>\n",
       "    <tr>\n",
       "      <th>2</th>\n",
       "      <td>2017-01-01</td>\n",
       "    </tr>\n",
       "  </tbody>\n",
       "</table>\n",
       "</div>"
      ],
      "text/plain": [
       "        date\n",
       "0 2015-01-01\n",
       "1 2016-01-01\n",
       "2 2017-01-01"
      ]
     },
     "execution_count": 92,
     "metadata": {},
     "output_type": "execute_result"
    }
   ],
   "source": [
    "def date_parser(x):\n",
    "    return datetime.strptime('20' + x, '%Y')\n",
    "\n",
    "pd.read_csv('./data/tmp.csv', parse_dates = [0], date_parser=date_parser)"
   ]
  },
  {
   "cell_type": "markdown",
   "metadata": {},
   "source": [
    "## > Format a `datetime` object to a `string`"
   ]
  },
  {
   "cell_type": "markdown",
   "metadata": {},
   "source": [
    "To format a `datetime` object to a string, the function to use is `strftime()`. The list of date formatters can be found [here](https://docs.python.org/3/library/datetime.html#strftime-and-strptime-behavior). "
   ]
  },
  {
   "cell_type": "code",
   "execution_count": 56,
   "metadata": {},
   "outputs": [
    {
     "name": "stdout",
     "output_type": "stream",
     "text": [
      "Output current time as a formatted string:\n"
     ]
    },
    {
     "data": {
      "text/plain": [
       "'2018-01-05 11:27:51.252837'"
      ]
     },
     "execution_count": 56,
     "metadata": {},
     "output_type": "execute_result"
    }
   ],
   "source": [
    "import datetime\n",
    "print('Output current time as a formatted string:')\n",
    "datetime.datetime.now().strftime('%Y-%m-%d %H:%M:%S.%f')"
   ]
  },
  {
   "cell_type": "markdown",
   "metadata": {},
   "source": [
    "___"
   ]
  },
  {
   "cell_type": "markdown",
   "metadata": {},
   "source": [
    "# <a name='NAs'></a>Deal with NAs\n",
    "\n",
    "Dealing with missing values may involve:\n",
    "* assessing the dataset to find the rows / columns containing missing values\n",
    "* removing the records containing missing values\n",
    "* filling the missing values with an alternate value"
   ]
  },
  {
   "cell_type": "markdown",
   "metadata": {},
   "source": [
    "## > Drop NAs using `Pandas.DataFrame.dropna(axis, how, thresh)`\n",
    "\n",
    "Pandas can look for NA column-wise or row-wise, drop a label if any or all values are NA and use a threshold for deletion."
   ]
  },
  {
   "cell_type": "markdown",
   "metadata": {},
   "source": [
    "## > Spot NAs using `apply()` and a lambda function"
   ]
  },
  {
   "cell_type": "markdown",
   "metadata": {},
   "source": [
    "A lambda function combined with `Pandas.DataFrame.apply()` may be used to spot NAs and then take some action. Things to remember :\n",
    "* if `x`is a DataFrame, then `x.isnull()` returns a boolean same-sized object indicating if the values are NA. \n",
    "* applying either `all()` or `any()` on `x.isnull()` checks if any or all of the value in the DataFrame are NA \n",
    "\n",
    "Let's take ta toy example:"
   ]
  },
  {
   "cell_type": "code",
   "execution_count": 109,
   "metadata": {},
   "outputs": [
    {
     "name": "stdout",
     "output_type": "stream",
     "text": [
      "    x1  x2  x3\n",
      "0  0.0 NaN   1\n",
      "1  NaN NaN   2\n",
      "\n",
      "The following column(s) contain only NAs:\n",
      "['x2']\n",
      "\n",
      "\n",
      "The following column(s) contain at least one NA\n",
      "['x1' 'x2']\n"
     ]
    }
   ],
   "source": [
    "import pandas as pd\n",
    "import numpy as np\n",
    "df = pd.DataFrame([[0, np.nan, 1], [np.nan, np.nan, 2]], columns = ['x1', 'x2', 'x3'])\n",
    "print(df)\n",
    "\n",
    "# create a boolean mask with columns containing only NAs\n",
    "cols = df.apply(lambda x: all(x.isnull()), axis=0)\n",
    "print('\\nThe following column(s) contain only NAs:')\n",
    "print(df.columns[cols].values)\n",
    "print('\\n')\n",
    "\n",
    "cols = df.apply(lambda x: any(x.isnull()), axis=0)\n",
    "print('The following column(s) contain at least one NA')\n",
    "print(df.columns[cols].values)"
   ]
  },
  {
   "cell_type": "markdown",
   "metadata": {},
   "source": [
    "___"
   ]
  },
  {
   "cell_type": "markdown",
   "metadata": {},
   "source": [
    "# <a name=\"corr_matrix\"></a> Compute correlation matrix\n",
    "It can be cumbersome to get the list of the most correlated pairs of variables in a data set. Here is an example of how to do so. \n",
    "\n",
    "We first create a toy dataset with 20 features and 5 correlated pairs of features to play with. Then, the correlation matrix is computed using the `pandas.DataFrame.corr()` command. To extract the relevant part of the matrix, a boolean mask is created with the `numpy.triu()` command. Finally the matrix is converted to a Pandas Series with a multi-index using the `pandas.DataFrame.stack()` command."
   ]
  },
  {
   "cell_type": "code",
   "execution_count": 25,
   "metadata": {},
   "outputs": [],
   "source": [
    "from sklearn.datasets import make_classification\n",
    "import pandas as pd\n",
    "import numpy as np"
   ]
  },
  {
   "cell_type": "code",
   "execution_count": 28,
   "metadata": {},
   "outputs": [],
   "source": [
    "X, y = make_classification(n_features=10, n_informative=3, n_redundant=5, n_classes=2,\n",
    "    n_clusters_per_class=2)"
   ]
  },
  {
   "cell_type": "code",
   "execution_count": 29,
   "metadata": {},
   "outputs": [],
   "source": [
    "col_names = ['feature_' + str(i) for i in range(X.shape[1])]\n",
    "X = pd.DataFrame(X, columns=col_names)"
   ]
  },
  {
   "cell_type": "code",
   "execution_count": 30,
   "metadata": {},
   "outputs": [],
   "source": [
    "# compute correlation matrix\n",
    "cor_matrix = X.corr()"
   ]
  },
  {
   "cell_type": "markdown",
   "metadata": {},
   "source": [
    "Then we want to extract the upper-part of the matrix (becauses the correlation matrix is symetrical), to do so we will generate a boolean mask array from an upper triangular matrix."
   ]
  },
  {
   "cell_type": "code",
   "execution_count": 40,
   "metadata": {},
   "outputs": [
    {
     "name": "stdout",
     "output_type": "stream",
     "text": [
      "The following mask has been generated: \n",
      "\n",
      "[[False  True  True  True  True  True  True  True  True  True]\n",
      " [False False  True  True  True  True  True  True  True  True]\n",
      " [False False False  True  True  True  True  True  True  True]\n",
      " [False False False False  True  True  True  True  True  True]\n",
      " [False False False False False  True  True  True  True  True]\n",
      " [False False False False False False  True  True  True  True]\n",
      " [False False False False False False False  True  True  True]\n",
      " [False False False False False False False False  True  True]\n",
      " [False False False False False False False False False  True]\n",
      " [False False False False False False False False False False]]\n"
     ]
    }
   ],
   "source": [
    "mask = np.triu(np.ones(cor_matrix.shape), k=1).astype(np.bool)\n",
    "print('The following mask has been generated: \\n')\n",
    "print(mask)"
   ]
  },
  {
   "cell_type": "markdown",
   "metadata": {},
   "source": [
    "When applied to our correlation matrix, it will only keep the upper part, excluding the diagonal. We use `.abs()`at the end because we are interested in variables positively and negatively correlated."
   ]
  },
  {
   "cell_type": "code",
   "execution_count": 44,
   "metadata": {},
   "outputs": [
    {
     "data": {
      "text/html": [
       "<div>\n",
       "<style>\n",
       "    .dataframe thead tr:only-child th {\n",
       "        text-align: right;\n",
       "    }\n",
       "\n",
       "    .dataframe thead th {\n",
       "        text-align: left;\n",
       "    }\n",
       "\n",
       "    .dataframe tbody tr th {\n",
       "        vertical-align: top;\n",
       "    }\n",
       "</style>\n",
       "<table border=\"1\" class=\"dataframe\">\n",
       "  <thead>\n",
       "    <tr style=\"text-align: right;\">\n",
       "      <th></th>\n",
       "      <th>feature_0</th>\n",
       "      <th>feature_1</th>\n",
       "      <th>feature_2</th>\n",
       "      <th>feature_3</th>\n",
       "      <th>feature_4</th>\n",
       "      <th>feature_5</th>\n",
       "      <th>feature_6</th>\n",
       "      <th>feature_7</th>\n",
       "      <th>feature_8</th>\n",
       "      <th>feature_9</th>\n",
       "    </tr>\n",
       "  </thead>\n",
       "  <tbody>\n",
       "    <tr>\n",
       "      <th>feature_0</th>\n",
       "      <td>NaN</td>\n",
       "      <td>0.517328</td>\n",
       "      <td>0.653118</td>\n",
       "      <td>0.244725</td>\n",
       "      <td>0.098232</td>\n",
       "      <td>0.139354</td>\n",
       "      <td>0.110006</td>\n",
       "      <td>0.682568</td>\n",
       "      <td>0.267424</td>\n",
       "      <td>0.061726</td>\n",
       "    </tr>\n",
       "    <tr>\n",
       "      <th>feature_1</th>\n",
       "      <td>NaN</td>\n",
       "      <td>NaN</td>\n",
       "      <td>0.296403</td>\n",
       "      <td>0.120035</td>\n",
       "      <td>0.125074</td>\n",
       "      <td>0.914892</td>\n",
       "      <td>0.053613</td>\n",
       "      <td>0.370075</td>\n",
       "      <td>0.875100</td>\n",
       "      <td>0.444038</td>\n",
       "    </tr>\n",
       "    <tr>\n",
       "      <th>feature_2</th>\n",
       "      <td>NaN</td>\n",
       "      <td>NaN</td>\n",
       "      <td>NaN</td>\n",
       "      <td>0.229692</td>\n",
       "      <td>0.198927</td>\n",
       "      <td>0.622841</td>\n",
       "      <td>0.153837</td>\n",
       "      <td>0.544542</td>\n",
       "      <td>0.530619</td>\n",
       "      <td>0.452341</td>\n",
       "    </tr>\n",
       "    <tr>\n",
       "      <th>feature_3</th>\n",
       "      <td>NaN</td>\n",
       "      <td>NaN</td>\n",
       "      <td>NaN</td>\n",
       "      <td>NaN</td>\n",
       "      <td>0.187990</td>\n",
       "      <td>0.345492</td>\n",
       "      <td>0.145993</td>\n",
       "      <td>0.514996</td>\n",
       "      <td>0.218010</td>\n",
       "      <td>0.685669</td>\n",
       "    </tr>\n",
       "    <tr>\n",
       "      <th>feature_4</th>\n",
       "      <td>NaN</td>\n",
       "      <td>NaN</td>\n",
       "      <td>NaN</td>\n",
       "      <td>NaN</td>\n",
       "      <td>NaN</td>\n",
       "      <td>0.200426</td>\n",
       "      <td>0.028883</td>\n",
       "      <td>0.019659</td>\n",
       "      <td>0.101719</td>\n",
       "      <td>0.005976</td>\n",
       "    </tr>\n",
       "    <tr>\n",
       "      <th>feature_5</th>\n",
       "      <td>NaN</td>\n",
       "      <td>NaN</td>\n",
       "      <td>NaN</td>\n",
       "      <td>NaN</td>\n",
       "      <td>NaN</td>\n",
       "      <td>NaN</td>\n",
       "      <td>0.121003</td>\n",
       "      <td>0.190213</td>\n",
       "      <td>0.840338</td>\n",
       "      <td>0.392408</td>\n",
       "    </tr>\n",
       "    <tr>\n",
       "      <th>feature_6</th>\n",
       "      <td>NaN</td>\n",
       "      <td>NaN</td>\n",
       "      <td>NaN</td>\n",
       "      <td>NaN</td>\n",
       "      <td>NaN</td>\n",
       "      <td>NaN</td>\n",
       "      <td>NaN</td>\n",
       "      <td>0.007935</td>\n",
       "      <td>0.043498</td>\n",
       "      <td>0.021896</td>\n",
       "    </tr>\n",
       "    <tr>\n",
       "      <th>feature_7</th>\n",
       "      <td>NaN</td>\n",
       "      <td>NaN</td>\n",
       "      <td>NaN</td>\n",
       "      <td>NaN</td>\n",
       "      <td>NaN</td>\n",
       "      <td>NaN</td>\n",
       "      <td>NaN</td>\n",
       "      <td>NaN</td>\n",
       "      <td>0.116589</td>\n",
       "      <td>0.587003</td>\n",
       "    </tr>\n",
       "    <tr>\n",
       "      <th>feature_8</th>\n",
       "      <td>NaN</td>\n",
       "      <td>NaN</td>\n",
       "      <td>NaN</td>\n",
       "      <td>NaN</td>\n",
       "      <td>NaN</td>\n",
       "      <td>NaN</td>\n",
       "      <td>NaN</td>\n",
       "      <td>NaN</td>\n",
       "      <td>NaN</td>\n",
       "      <td>0.809456</td>\n",
       "    </tr>\n",
       "    <tr>\n",
       "      <th>feature_9</th>\n",
       "      <td>NaN</td>\n",
       "      <td>NaN</td>\n",
       "      <td>NaN</td>\n",
       "      <td>NaN</td>\n",
       "      <td>NaN</td>\n",
       "      <td>NaN</td>\n",
       "      <td>NaN</td>\n",
       "      <td>NaN</td>\n",
       "      <td>NaN</td>\n",
       "      <td>NaN</td>\n",
       "    </tr>\n",
       "  </tbody>\n",
       "</table>\n",
       "</div>"
      ],
      "text/plain": [
       "           feature_0  feature_1  feature_2  feature_3  feature_4  feature_5  \\\n",
       "feature_0        NaN   0.517328   0.653118   0.244725   0.098232   0.139354   \n",
       "feature_1        NaN        NaN   0.296403   0.120035   0.125074   0.914892   \n",
       "feature_2        NaN        NaN        NaN   0.229692   0.198927   0.622841   \n",
       "feature_3        NaN        NaN        NaN        NaN   0.187990   0.345492   \n",
       "feature_4        NaN        NaN        NaN        NaN        NaN   0.200426   \n",
       "feature_5        NaN        NaN        NaN        NaN        NaN        NaN   \n",
       "feature_6        NaN        NaN        NaN        NaN        NaN        NaN   \n",
       "feature_7        NaN        NaN        NaN        NaN        NaN        NaN   \n",
       "feature_8        NaN        NaN        NaN        NaN        NaN        NaN   \n",
       "feature_9        NaN        NaN        NaN        NaN        NaN        NaN   \n",
       "\n",
       "           feature_6  feature_7  feature_8  feature_9  \n",
       "feature_0   0.110006   0.682568   0.267424   0.061726  \n",
       "feature_1   0.053613   0.370075   0.875100   0.444038  \n",
       "feature_2   0.153837   0.544542   0.530619   0.452341  \n",
       "feature_3   0.145993   0.514996   0.218010   0.685669  \n",
       "feature_4   0.028883   0.019659   0.101719   0.005976  \n",
       "feature_5   0.121003   0.190213   0.840338   0.392408  \n",
       "feature_6        NaN   0.007935   0.043498   0.021896  \n",
       "feature_7        NaN        NaN   0.116589   0.587003  \n",
       "feature_8        NaN        NaN        NaN   0.809456  \n",
       "feature_9        NaN        NaN        NaN        NaN  "
      ]
     },
     "execution_count": 44,
     "metadata": {},
     "output_type": "execute_result"
    }
   ],
   "source": [
    "upper_cor_matrix = cor_matrix.where(mask).abs()\n",
    "upper_cor_matrix"
   ]
  },
  {
   "cell_type": "markdown",
   "metadata": {},
   "source": [
    "To make it easier to use, the columns are stacked into rows, resulting in a multi-index Pandas Series:"
   ]
  },
  {
   "cell_type": "code",
   "execution_count": 48,
   "metadata": {},
   "outputs": [
    {
     "name": "stdout",
     "output_type": "stream",
     "text": [
      "Display the most-correlated pairs:\n"
     ]
    },
    {
     "data": {
      "text/plain": [
       "feature_1  feature_5    0.914892\n",
       "           feature_8    0.875100\n",
       "feature_5  feature_8    0.840338\n",
       "feature_8  feature_9    0.809456\n",
       "feature_3  feature_9    0.685669\n",
       "feature_0  feature_7    0.682568\n",
       "           feature_2    0.653118\n",
       "feature_2  feature_5    0.622841\n",
       "dtype: float64"
      ]
     },
     "execution_count": 48,
     "metadata": {},
     "output_type": "execute_result"
    }
   ],
   "source": [
    "cor_series = upper_cor_matrix.stack().sort_values(ascending=False)\n",
    "print('Display the most-correlated pairs:')\n",
    "cor_series[cor_series > 0.6]"
   ]
  },
  {
   "cell_type": "markdown",
   "metadata": {},
   "source": [
    "___"
   ]
  },
  {
   "cell_type": "markdown",
   "metadata": {},
   "source": [
    "# <a name='load_concat'></a> Load data from multiple files and concatenate"
   ]
  },
  {
   "cell_type": "markdown",
   "metadata": {},
   "source": [
    "Python `glob.glob()` command is used to find all the files in a directory matching a path pattern (**be careful, the files are return in an unsorted order**).\n",
    "\n",
    "`map()` command is applied to the file list to read the csv files via a lambda function.\n",
    "\n",
    "The result is eventually concatenated using `Pandas.concat()` function."
   ]
  },
  {
   "cell_type": "code",
   "execution_count": 68,
   "metadata": {},
   "outputs": [
    {
     "name": "stdout",
     "output_type": "stream",
     "text": [
      "List of files found:\n",
      "['./data/file1.csv', './data/file2.csv']\n"
     ]
    },
    {
     "data": {
      "text/html": [
       "<div>\n",
       "<style>\n",
       "    .dataframe thead tr:only-child th {\n",
       "        text-align: right;\n",
       "    }\n",
       "\n",
       "    .dataframe thead th {\n",
       "        text-align: left;\n",
       "    }\n",
       "\n",
       "    .dataframe tbody tr th {\n",
       "        vertical-align: top;\n",
       "    }\n",
       "</style>\n",
       "<table border=\"1\" class=\"dataframe\">\n",
       "  <thead>\n",
       "    <tr style=\"text-align: right;\">\n",
       "      <th></th>\n",
       "      <th>id</th>\n",
       "      <th>name</th>\n",
       "    </tr>\n",
       "  </thead>\n",
       "  <tbody>\n",
       "    <tr>\n",
       "      <th>0</th>\n",
       "      <td>1</td>\n",
       "      <td>john doe</td>\n",
       "    </tr>\n",
       "    <tr>\n",
       "      <th>1</th>\n",
       "      <td>2</td>\n",
       "      <td>donald trump</td>\n",
       "    </tr>\n",
       "    <tr>\n",
       "      <th>0</th>\n",
       "      <td>3</td>\n",
       "      <td>bill clinton</td>\n",
       "    </tr>\n",
       "    <tr>\n",
       "      <th>1</th>\n",
       "      <td>4</td>\n",
       "      <td>hillary clinton</td>\n",
       "    </tr>\n",
       "  </tbody>\n",
       "</table>\n",
       "</div>"
      ],
      "text/plain": [
       "   id              name\n",
       "0   1          john doe\n",
       "1   2      donald trump\n",
       "0   3      bill clinton\n",
       "1   4   hillary clinton"
      ]
     },
     "execution_count": 68,
     "metadata": {},
     "output_type": "execute_result"
    }
   ],
   "source": [
    "import glob\n",
    "import pandas as pd\n",
    "files = glob.glob('./data/file*.csv')\n",
    "print('List of files found:')\n",
    "print(files)\n",
    "df1 = pd.concat(map(lambda file: pd.read_csv(file, sep=','), files))\n",
    "df1"
   ]
  },
  {
   "cell_type": "markdown",
   "metadata": {},
   "source": [
    "___"
   ]
  },
  {
   "cell_type": "markdown",
   "metadata": {},
   "source": [
    "# <a name='save_csv'></a>Save a dataframe to .csv file\n",
    "\n",
    "Full documentation on the `Pandas.DataFrame.to_csv()` command may be found here: [official documentation](https://pandas.pydata.org/pandas-docs/stable/generated/pandas.DataFrame.to_csv.html)\n",
    "\n",
    "Ok this one may seem obvious but if you want your `Pandas.DataFrame` to be easily readable afterwards, you have to take care:\n",
    "* if your dataframe doest not have an index, I suggest that you pass `index=False` to `Pandas.DataFrame.to_csv()` so that row numbers are not saved in the .csv file. This will prevent any trouble from occuring when loading the file again\n",
    "* if your dataframe already has an index that you want to keep, the default value `index=True` in `Pandas.DataFrame.to_csv()` will work fine\n",
    "* if you don't have an index yet but want to save the dataframe and use an existing column as the index for future reading, then you can specify `index=True` AND `index_label=my_future_index_column`"
   ]
  }
 ],
 "metadata": {
  "kernelspec": {
   "display_name": "Python 3",
   "language": "python",
   "name": "python3"
  },
  "language_info": {
   "codemirror_mode": {
    "name": "ipython",
    "version": 3
   },
   "file_extension": ".py",
   "mimetype": "text/x-python",
   "name": "python",
   "nbconvert_exporter": "python",
   "pygments_lexer": "ipython3",
   "version": "3.6.2"
  }
 },
 "nbformat": 4,
 "nbformat_minor": 2
}
